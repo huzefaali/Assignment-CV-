{
  "nbformat": 4,
  "nbformat_minor": 0,
  "metadata": {
    "colab": {
      "provenance": [],
      "collapsed_sections": []
    },
    "kernelspec": {
      "name": "python3",
      "display_name": "Python 3"
    },
    "language_info": {
      "name": "python"
    }
  },
  "cells": [
    {
      "cell_type": "code",
      "source": [
        "import numpy as np\n",
        "import cv2\n",
        "import os\n",
        "from scipy import ndimage\n",
        "from scipy.spatial import distance\n",
        "from sklearn.cluster import KMeans\n",
        "from scipy import ndimage\n",
        "from scipy.spatial import distance\n",
        "import matplotlib.pyplot as plt"
      ],
      "metadata": {
        "id": "zE8h4dSJz9FL"
      },
      "execution_count": 35,
      "outputs": []
    },
    {
      "cell_type": "code",
      "execution_count": 36,
      "metadata": {
        "id": "GPQlcHJkmT1D"
      },
      "outputs": [],
      "source": [
        "# takes all images and convert them to grayscale. \n",
        "# return a dictionary that holds all images category by category. \n",
        "def load_images_from_folder(folder):\n",
        "    images = {}\n",
        "    for filename in os.listdir(folder):\n",
        "        category = []\n",
        "        path = folder + \"/\" + filename\n",
        "        for cat in os.listdir(path):\n",
        "            img = cv2.imread(path + \"/\" + cat,0)\n",
        "            #img = cv2.cvtColor(img, cv2.COLOR_BGR2GRAY)\n",
        "            if img is not None:\n",
        "                category.append(img)\n",
        "        images[filename] = category\n",
        "    return images\n",
        "\n",
        "images = load_images_from_folder(r'/content/drive/MyDrive/Dataset-Assignment 1/Training')  # take all images category by category \n",
        "test = load_images_from_folder(r'/content/drive/MyDrive/Dataset-Assignment 1/Test') # take test images \n",
        "    \n"
      ]
    },
    {
      "cell_type": "code",
      "source": [
        "# Creates descriptors using sift \n",
        "# Takes one parameter that is images dictionary\n",
        "# Return an array whose first index holds the decriptor_list without an order\n",
        "# And the second index holds the sift_vectors dictionary which holds the descriptors but this is seperated class by class\n",
        "def sift_feat(images):\n",
        "    sift_vectors = {}\n",
        "    descriptor_list = []\n",
        "    sift = cv2.xfeatures2d.SIFT_create()\n",
        "    for key,value in images.items():\n",
        "        features = []\n",
        "        for img in value:\n",
        "            kp, des = sift.detectAndCompute(img,None)\n",
        "           \n",
        "            \n",
        "            descriptor_list.extend(des)\n",
        "            features.append(des)\n",
        "        sift_vectors[key] = features\n",
        "    return [descriptor_list, sift_vectors]\n",
        "\n",
        "sifts = sift_feat(images) \n",
        "# Takes the descriptor list which is unordered one\n",
        "descriptor_list = sifts[0] \n",
        "# Takes the sift features that is seperated class by class for train data\n",
        "all_bovw_feature = sifts[1] \n",
        "# Takes the sift features that is seperated class by class for test data\n",
        "test_bovw_feature = sift_feat(test)[1] "
      ],
      "metadata": {
        "id": "jkedgTbvpPDo"
      },
      "execution_count": 37,
      "outputs": []
    },
    {
      "cell_type": "code",
      "source": [
        "# A k-means clustering algorithm who takes 2 parameter which is number of cluster(k) and the other is descriptors list(unordered 1d array)\n",
        "# Returns an array that holds central points.\n",
        "def k_means(k, descriptor_list):\n",
        "    kmeans = KMeans(n_clusters = k, n_init=10)\n",
        "    kmeans.fit(descriptor_list)\n",
        "    visual_words = kmeans.cluster_centers_ \n",
        "    return visual_words\n",
        "    \n",
        "# Takes the central points which is visual words    \n",
        "visual_words = k_means(200, descriptor_list) \n",
        "plt.hist(visual_words)"
      ],
      "metadata": {
        "colab": {
          "base_uri": "https://localhost:8080/",
          "height": 462
        },
        "id": "XUyY6ZrHqB2N",
        "outputId": "0e0b65a8-622b-494a-8fe0-49abae9605bb"
      },
      "execution_count": 48,
      "outputs": [
        {
          "output_type": "execute_result",
          "data": {
            "text/plain": [
              "(array([[110.,  51.,  24., ...,   0.,   0.,   0.],\n",
              "        [144.,  32.,   9., ...,   0.,   0.,   0.],\n",
              "        [151.,  32.,   4., ...,   0.,   0.,   0.],\n",
              "        ...,\n",
              "        [152.,  33.,  10., ...,   0.,   0.,   0.],\n",
              "        [168.,  22.,   5., ...,   0.,   0.,   0.],\n",
              "        [165.,  20.,   7., ...,   0.,   0.,   0.]]),\n",
              " array([1.49253731e-02, 1.85342068e+01, 3.70534882e+01, 5.55727696e+01,\n",
              "        7.40920509e+01, 9.26113323e+01, 1.11130614e+02, 1.29649895e+02,\n",
              "        1.48169177e+02, 1.66688458e+02, 1.85207739e+02]),\n",
              " <a list of 128 Lists of Patches objects>)"
            ]
          },
          "metadata": {},
          "execution_count": 48
        },
        {
          "output_type": "display_data",
          "data": {
            "text/plain": [
              "<Figure size 432x288 with 1 Axes>"
            ],
            "image/png": "[encoded data removed]"
          },
          "metadata": {
            "needs_background": "light"
          }
        }
      ]
    },
    {
      "cell_type": "code",
      "source": [
        "def find_index(image, center):\n",
        "    count = 0\n",
        "    ind = 0\n",
        "    for i in range(len(center)):\n",
        "        if(i == 0):\n",
        "           count = distance.euclidean(image, center[i]) \n",
        "           #count = L1_dist(image, center[i])\n",
        "        else:\n",
        "            dist = distance.euclidean(image, center[i]) \n",
        "            #dist = L1_dist(image, center[i])\n",
        "            if(dist < count):\n",
        "                ind = i\n",
        "                count = dist\n",
        "    return ind"
      ],
      "metadata": {
        "id": "0jkmp0_BxbXJ"
      },
      "execution_count": 44,
      "outputs": []
    },
    {
      "cell_type": "code",
      "source": [
        "# Takes 2 parameters. The first one is a dictionary that holds the descriptors that are separated class by class \n",
        "# And the second parameter is an array that holds the central points (visual words) of the k means clustering\n",
        "# Returns a dictionary that holds the histograms for each images that are separated class by class. \n",
        "def image_class(all_bovw, centers):\n",
        "    dict_feature = {}\n",
        "    for key,value in all_bovw.items():\n",
        "        category = []\n",
        "        for img in value:\n",
        "            histogram = np.zeros(len(centers))\n",
        "            for each_feature in img:\n",
        "                ind = find_index(each_feature, centers)\n",
        "                histogram[ind] += 1\n",
        "            category.append(histogram)\n",
        "        dict_feature[key] = category\n",
        "    return dict_feature\n",
        "    \n",
        "# Creates histograms for train data    \n",
        "bovw_train = image_class(all_bovw_feature, visual_words) \n",
        "# Creates histograms for test data\n",
        "bovw_test = image_class(test_bovw_feature, visual_words) "
      ],
      "metadata": {
        "id": "OY95OV5rq7G_"
      },
      "execution_count": 45,
      "outputs": []
    },
    {
      "cell_type": "code",
      "source": [
        "# 1-NN algorithm. We use this for predict the class of test images.\n",
        "# Takes 2 parameters. images is the feature vectors of train images and tests is the feature vectors of test images\n",
        "# Returns an array that holds number of test images, number of correctly predicted images and records of class based images respectively\n",
        "def KNN(images, tests):\n",
        "    num_test = 0\n",
        "    correct_predict = 0\n",
        "    class_based = {}\n",
        "    \n",
        "    for test_key, test_val in tests.items():\n",
        "        class_based[test_key] = [0, 0] # [correct, all]\n",
        "        for tst in test_val:\n",
        "            predict_start = 0\n",
        "            #print(test_key)\n",
        "            minimum = 0\n",
        "            key = \"a\" #predicted\n",
        "            for train_key, train_val in images.items():\n",
        "                for train in train_val:\n",
        "                    if(predict_start == 0):\n",
        "                        minimum = distance.euclidean(tst, train)\n",
        "                        #minimum = L1_dist(tst,train)\n",
        "                        key = train_key\n",
        "                        predict_start += 1\n",
        "                    else:\n",
        "                        dist = distance.euclidean(tst, train)\n",
        "                        #calling dist = L1_dist(tst,train)\n",
        "                        if(dist < minimum):\n",
        "                            minimum = dist\n",
        "                            key = train_key\n",
        "            \n",
        "            if(test_key == key):\n",
        "                correct_predict += 1\n",
        "                class_based[test_key][0] += 1\n",
        "            num_test += 1\n",
        "            class_based[test_key][1] += 1\n",
        "            #print(minimum)\n",
        "    return [num_test, correct_predict, class_based]\n",
        "    \n",
        "# Calling knn function    \n",
        "results_bowl = KNN(bovw_train, bovw_test) "
      ],
      "metadata": {
        "id": "_qGiFB1Nyz2C"
      },
      "execution_count": 46,
      "outputs": []
    },
    {
      "cell_type": "code",
      "source": [
        "# Calculating the average accuracy and class based accuracies.  \n",
        "def accur(results):\n",
        "    avg_accuracy = (results[1] / results[0]) * 100\n",
        "    print(\"Average accuracy: %\" + str(avg_accuracy))\n",
        "    print(\"\\nClass based accuracies: \\n\")\n",
        "    for key,value in results[2].items():\n",
        "        acc = (value[0] / value[1]) * 100\n",
        "        print(key + \" : %\" + str(acc))\n",
        "        \n",
        "# Calculates the accuracies and write the results to the console.       \n",
        "accur(results_bowl) "
      ],
      "metadata": {
        "colab": {
          "base_uri": "https://localhost:8080/"
        },
        "id": "ei9b2NNfzGZN",
        "outputId": "5c488e0f-3b02-4b48-e1c5-5a954d24bba0"
      },
      "execution_count": 47,
      "outputs": [
        {
          "output_type": "stream",
          "name": "stdout",
          "text": [
            "Average accuracy: %53.5\n",
            "\n",
            "Class based accuracies: \n",
            "\n",
            "00008 : %90.0\n",
            "00007 : %30.0\n",
            "00009 : %70.0\n",
            "00001 : %25.0\n",
            "00006 : %40.0\n",
            "00003 : %40.0\n",
            "00005 : %35.0\n",
            "00010 : %45.0\n",
            "00004 : %65.0\n",
            "00002 : %95.0\n"
          ]
        }
      ]
    }
  ]
}